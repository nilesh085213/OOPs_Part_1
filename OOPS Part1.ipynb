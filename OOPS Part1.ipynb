{
 "cells": [
  {
   "cell_type": "code",
   "execution_count": 4,
   "id": "69914265-c8fb-47af-aedf-1bd4bb6bc0a9",
   "metadata": {},
   "outputs": [],
   "source": [
    "a = 1"
   ]
  },
  {
   "cell_type": "code",
   "execution_count": 5,
   "id": "c5e4b51a-9d41-44f0-bf9f-96f98d1ffbdc",
   "metadata": {},
   "outputs": [
    {
     "name": "stdout",
     "output_type": "stream",
     "text": [
      "<class 'int'>\n"
     ]
    }
   ],
   "source": [
    "print(type(a))"
   ]
  },
  {
   "cell_type": "code",
   "execution_count": 6,
   "id": "60e7224d-afd1-4270-a56c-2459e069602d",
   "metadata": {},
   "outputs": [
    {
     "name": "stdout",
     "output_type": "stream",
     "text": [
      "<class 'str'>\n"
     ]
    }
   ],
   "source": [
    "print(type(\"pwskills\"))"
   ]
  },
  {
   "cell_type": "code",
   "execution_count": 7,
   "id": "0d55de64-96ac-48a2-b294-1356b0605569",
   "metadata": {},
   "outputs": [
    {
     "ename": "SyntaxError",
     "evalue": "incomplete input (625349465.py, line 1)",
     "output_type": "error",
     "traceback": [
      "\u001b[0;36m  Cell \u001b[0;32mIn[7], line 1\u001b[0;36m\u001b[0m\n\u001b[0;31m    class test :\u001b[0m\n\u001b[0m                ^\u001b[0m\n\u001b[0;31mSyntaxError\u001b[0m\u001b[0;31m:\u001b[0m incomplete input\n"
     ]
    }
   ],
   "source": [
    "class test :"
   ]
  },
  {
   "cell_type": "code",
   "execution_count": 8,
   "id": "3637de74-bedd-4869-ac7f-4c113a9d8843",
   "metadata": {},
   "outputs": [],
   "source": [
    "class test :\n",
    "    pass"
   ]
  },
  {
   "cell_type": "code",
   "execution_count": 9,
   "id": "c5faa522-74cf-41a5-8d51-a5fe8564ebec",
   "metadata": {},
   "outputs": [],
   "source": [
    "a = test()"
   ]
  },
  {
   "cell_type": "code",
   "execution_count": 10,
   "id": "651f7aea-3086-42eb-8a80-2e19df46b68d",
   "metadata": {},
   "outputs": [
    {
     "data": {
      "text/plain": [
       "__main__.test"
      ]
     },
     "execution_count": 10,
     "metadata": {},
     "output_type": "execute_result"
    }
   ],
   "source": [
    "type(a)"
   ]
  },
  {
   "cell_type": "code",
   "execution_count": 11,
   "id": "c10baea1-8298-4bf7-b3e3-9001c0dadc29",
   "metadata": {},
   "outputs": [
    {
     "name": "stdout",
     "output_type": "stream",
     "text": [
      "<class '__main__.test'>\n"
     ]
    }
   ],
   "source": [
    "print(type(a))"
   ]
  },
  {
   "cell_type": "code",
   "execution_count": 12,
   "id": "98a1b392-6f67-4cf6-b072-e7247bae6dc7",
   "metadata": {},
   "outputs": [],
   "source": [
    "class pwskills :\n",
    "    def welcome_msg():\n",
    "        print(\"welcome to pwskills\")"
   ]
  },
  {
   "cell_type": "code",
   "execution_count": 13,
   "id": "50148371-8206-4444-8325-2772c0b3f5fa",
   "metadata": {},
   "outputs": [],
   "source": [
    "rohan = pwskills()"
   ]
  },
  {
   "cell_type": "code",
   "execution_count": 14,
   "id": "5cf65b31-e868-486c-9051-e7cc3d7c26a2",
   "metadata": {},
   "outputs": [
    {
     "name": "stdout",
     "output_type": "stream",
     "text": [
      "<class '__main__.pwskills'>\n"
     ]
    }
   ],
   "source": [
    "print(type(rohan))"
   ]
  },
  {
   "cell_type": "code",
   "execution_count": 15,
   "id": "41e43c7d-0724-4a21-bab9-3319fa466eb4",
   "metadata": {},
   "outputs": [
    {
     "ename": "TypeError",
     "evalue": "pwskills.welcome_msg() takes 0 positional arguments but 1 was given",
     "output_type": "error",
     "traceback": [
      "\u001b[0;31m---------------------------------------------------------------------------\u001b[0m",
      "\u001b[0;31mTypeError\u001b[0m                                 Traceback (most recent call last)",
      "Cell \u001b[0;32mIn[15], line 1\u001b[0m\n\u001b[0;32m----> 1\u001b[0m \u001b[43mrohan\u001b[49m\u001b[38;5;241;43m.\u001b[39;49m\u001b[43mwelcome_msg\u001b[49m\u001b[43m(\u001b[49m\u001b[43m)\u001b[49m\n",
      "\u001b[0;31mTypeError\u001b[0m: pwskills.welcome_msg() takes 0 positional arguments but 1 was given"
     ]
    }
   ],
   "source": [
    "rohan.welcome_msg()"
   ]
  },
  {
   "cell_type": "code",
   "execution_count": 16,
   "id": "8b257369-7e9e-47c0-9889-647d8701c72d",
   "metadata": {},
   "outputs": [],
   "source": [
    "class pwskills :\n",
    "    def welcome_msg(self):\n",
    "        print(\"welcome to pwskills\")"
   ]
  },
  {
   "cell_type": "code",
   "execution_count": 17,
   "id": "88a66682-24c7-4a6b-a918-d0224192f7e4",
   "metadata": {},
   "outputs": [],
   "source": [
    "rohan = pwskills()"
   ]
  },
  {
   "cell_type": "code",
   "execution_count": 18,
   "id": "ccd1cd6c-6d21-4624-b356-dfe0b3861a9d",
   "metadata": {},
   "outputs": [
    {
     "name": "stdout",
     "output_type": "stream",
     "text": [
      "<class '__main__.pwskills'>\n"
     ]
    }
   ],
   "source": [
    "print(type(rohan))"
   ]
  },
  {
   "cell_type": "code",
   "execution_count": 19,
   "id": "15951dc7-e865-49b8-a355-eefa4b115e97",
   "metadata": {},
   "outputs": [
    {
     "name": "stdout",
     "output_type": "stream",
     "text": [
      "welcome to pwskills\n"
     ]
    }
   ],
   "source": [
    "rohan.welcome_msg()"
   ]
  },
  {
   "cell_type": "code",
   "execution_count": 20,
   "id": "87b91d44-3c77-4e73-9f1d-b2c29f2d5f36",
   "metadata": {},
   "outputs": [],
   "source": [
    "gaurav = pwskills()"
   ]
  },
  {
   "cell_type": "code",
   "execution_count": 21,
   "id": "43a2f17d-1aa2-44af-a4b3-2a4a2a69cff9",
   "metadata": {},
   "outputs": [
    {
     "name": "stdout",
     "output_type": "stream",
     "text": [
      "welcome to pwskills\n"
     ]
    }
   ],
   "source": [
    "gaurav.welcome_msg()"
   ]
  },
  {
   "cell_type": "code",
   "execution_count": 47,
   "id": "d65f5e70-d844-41c6-b550-a1cfb43e5d16",
   "metadata": {},
   "outputs": [],
   "source": [
    "class pwskills1 :\n",
    "    \n",
    "    def __init__(self, phone_number, email_id, student_id):\n",
    "        self.phone_number = phone_number\n",
    "        self.email_id = email_id\n",
    "        self.student_id = student_id\n",
    "        \n",
    "    def return_student_deetials(self) :\n",
    "        return self.student_id, self.phone_number, self.email_id\n",
    "        "
   ]
  },
  {
   "cell_type": "code",
   "execution_count": null,
   "id": "2cdab787-558c-45fd-9e3b-90a4bc44aa74",
   "metadata": {},
   "outputs": [],
   "source": []
  },
  {
   "cell_type": "code",
   "execution_count": 48,
   "id": "6a651a5b-416e-49a1-be3e-cf10ed5e1025",
   "metadata": {},
   "outputs": [],
   "source": [
    "rohan = pwskills1(1519977148, \"nilesh@gmail.com\", 101)"
   ]
  },
  {
   "cell_type": "code",
   "execution_count": 54,
   "id": "6e1ecb91-7133-4a0b-b535-1df84a39fae7",
   "metadata": {},
   "outputs": [
    {
     "data": {
      "text/plain": [
       "1519977148"
      ]
     },
     "execution_count": 54,
     "metadata": {},
     "output_type": "execute_result"
    }
   ],
   "source": [
    "rohan.phone_number"
   ]
  },
  {
   "cell_type": "code",
   "execution_count": 55,
   "id": "8e8ba997-a725-4d43-90e2-5d0930c8eff1",
   "metadata": {},
   "outputs": [
    {
     "data": {
      "text/plain": [
       "'nilesh@gmail.com'"
      ]
     },
     "execution_count": 55,
     "metadata": {},
     "output_type": "execute_result"
    }
   ],
   "source": [
    "rohan.email_id"
   ]
  },
  {
   "cell_type": "code",
   "execution_count": 49,
   "id": "a6de1514-2559-430f-bae0-d01cc53f91bd",
   "metadata": {},
   "outputs": [
    {
     "data": {
      "text/plain": [
       "(101, 1519977148, 'nilesh@gmail.com')"
      ]
     },
     "execution_count": 49,
     "metadata": {},
     "output_type": "execute_result"
    }
   ],
   "source": [
    "rohan.return_student_deetials()"
   ]
  },
  {
   "cell_type": "code",
   "execution_count": 50,
   "id": "ea493dfa-64c5-4c09-a89f-88b987787870",
   "metadata": {},
   "outputs": [],
   "source": [
    "gaurav = pwskills1(7633874841, \"rahul@gmail.com\", 102)"
   ]
  },
  {
   "cell_type": "code",
   "execution_count": 52,
   "id": "a7cdee00-c5c5-4ef2-899c-d8eb8de6381b",
   "metadata": {},
   "outputs": [
    {
     "data": {
      "text/plain": [
       "(102, 7633874841, 'rahul@gmail.com')"
      ]
     },
     "execution_count": 52,
     "metadata": {},
     "output_type": "execute_result"
    }
   ],
   "source": [
    "gaurav.return_student_deetials()"
   ]
  },
  {
   "cell_type": "code",
   "execution_count": 62,
   "id": "2afb668e-4242-4d21-a41d-515a4f9eac31",
   "metadata": {},
   "outputs": [],
   "source": [
    "class pwskills2 :\n",
    "    \n",
    "    def __init__(self, phone_number, email_id, student_id):\n",
    "        self.phone_number1 = phone_number\n",
    "        self.email_id1 = email_id\n",
    "        self.student_id1 = student_id\n",
    "        \n",
    "    def return_student_deetials(self) :\n",
    "        return self.student_id1, self.phone_number1, self.email_id1\n",
    "        "
   ]
  },
  {
   "cell_type": "code",
   "execution_count": 63,
   "id": "e50d683c-2de8-401b-8680-b29e15c60f87",
   "metadata": {},
   "outputs": [],
   "source": [
    "nilesh = pwskills2(8434582303, \"sonu@gmail.com\", 103)"
   ]
  },
  {
   "cell_type": "code",
   "execution_count": 64,
   "id": "084672ac-3996-4ebb-9838-f26f152b888d",
   "metadata": {},
   "outputs": [
    {
     "ename": "AttributeError",
     "evalue": "'pwskills2' object has no attribute 'phone_number'",
     "output_type": "error",
     "traceback": [
      "\u001b[0;31m---------------------------------------------------------------------------\u001b[0m",
      "\u001b[0;31mAttributeError\u001b[0m                            Traceback (most recent call last)",
      "Cell \u001b[0;32mIn[64], line 1\u001b[0m\n\u001b[0;32m----> 1\u001b[0m \u001b[43mnilesh\u001b[49m\u001b[38;5;241;43m.\u001b[39;49m\u001b[43mphone_number\u001b[49m\n",
      "\u001b[0;31mAttributeError\u001b[0m: 'pwskills2' object has no attribute 'phone_number'"
     ]
    }
   ],
   "source": [
    "nilesh.phone_number"
   ]
  },
  {
   "cell_type": "code",
   "execution_count": 65,
   "id": "7f81295a-7090-4f95-b89d-9a864ee044b8",
   "metadata": {},
   "outputs": [
    {
     "data": {
      "text/plain": [
       "8434582303"
      ]
     },
     "execution_count": 65,
     "metadata": {},
     "output_type": "execute_result"
    }
   ],
   "source": [
    "nilesh.phone_number1"
   ]
  },
  {
   "cell_type": "code",
   "execution_count": 66,
   "id": "495c9351-b66d-41c1-9226-ee406df075a8",
   "metadata": {},
   "outputs": [
    {
     "data": {
      "text/plain": [
       "'sonu@gmail.com'"
      ]
     },
     "execution_count": 66,
     "metadata": {},
     "output_type": "execute_result"
    }
   ],
   "source": [
    "nilesh.email_id1"
   ]
  },
  {
   "cell_type": "code",
   "execution_count": 67,
   "id": "9543d5fc-0091-4d4b-83da-ef24c9eefc11",
   "metadata": {},
   "outputs": [
    {
     "data": {
      "text/plain": [
       "(103, 8434582303, 'sonu@gmail.com')"
      ]
     },
     "execution_count": 67,
     "metadata": {},
     "output_type": "execute_result"
    }
   ],
   "source": [
    "nilesh.return_student_deetials()"
   ]
  },
  {
   "cell_type": "code",
   "execution_count": null,
   "id": "b46fe56e-6d9e-4a3e-8c44-cbc0a263fdd9",
   "metadata": {},
   "outputs": [],
   "source": [
    "class pwskills2 :\n",
    "    \n",
    "    def __init__(nilesh, phone_number, email_id, student_id):\n",
    "        self.phone_number1 = phone_number\n",
    "        self.email_id1 = email_id\n",
    "        self.student_id1 = student_id\n",
    "        \n",
    "    def return_student_deetials(self) :\n",
    "        return self.student_id1, self.phone_number1, self.email_id1\n",
    "        "
   ]
  }
 ],
 "metadata": {
  "kernelspec": {
   "display_name": "Python 3 (ipykernel)",
   "language": "python",
   "name": "python3"
  },
  "language_info": {
   "codemirror_mode": {
    "name": "ipython",
    "version": 3
   },
   "file_extension": ".py",
   "mimetype": "text/x-python",
   "name": "python",
   "nbconvert_exporter": "python",
   "pygments_lexer": "ipython3",
   "version": "3.10.8"
  }
 },
 "nbformat": 4,
 "nbformat_minor": 5
}
